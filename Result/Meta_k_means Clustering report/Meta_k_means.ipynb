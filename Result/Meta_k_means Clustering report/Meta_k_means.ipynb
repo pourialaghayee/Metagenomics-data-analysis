{
  "nbformat": 4,
  "nbformat_minor": 0,
  "metadata": {
    "colab": {
      "name": "Section5.ipynb",
      "provenance": []
    },
    "kernelspec": {
      "name": "python3",
      "display_name": "Python 3"
    },
    "language_info": {
      "name": "python"
    }
  },
  "cells": [
    {
      "cell_type": "code",
      "metadata": {
        "id": "uMhZLuoZVZOh"
      },
      "source": [
        "!sudo apt install python3-pip\n",
        "!sudo add-apt-repository universe\n",
        "!sudo apt update\n",
        "!pip3 install cami-amber\n",
        "!echo 'PATH=$PATH:${HOME}/.local/bin' >> ~/.bashrc\n",
        "!source ~/.bashrc"
      ],
      "execution_count": null,
      "outputs": []
    },
    {
      "cell_type": "code",
      "metadata": {
        "colab": {
          "base_uri": "https://localhost:8080/"
        },
        "id": "Y7zNT6JzWFf1",
        "outputId": "3890d090-e8c0-43cf-d80f-a28f92c5131a"
      },
      "source": [
        "!amber.py -g GR.binning -o Result/ BB.binning ME.binning"
      ],
      "execution_count": 2,
      "outputs": [
        {
          "output_type": "stream",
          "text": [
            "/usr/local/lib/python3.7/dist-packages/statsmodels/tools/_testing.py:19: FutureWarning: pandas.util.testing is deprecated. Use the functions in the public API at pandas.testing instead.\n",
            "  import pandas.util.testing as tm\n",
            "2021-07-16 17:24:42,503 INFO Loading Gold standard\n",
            "2021-07-16 17:24:42,538 INFO Loading BB\n",
            "2021-07-16 17:24:42,568 INFO Loading ME\n",
            "2021-07-16 17:24:42,604 INFO Creating output directories\n",
            "2021-07-16 17:24:42,607 INFO Evaluating Gold standard (sample gsa, genome binning)\n",
            "2021-07-16 17:24:42,759 INFO Evaluating BB (sample gsa, genome binning)\n",
            "2021-07-16 17:24:42,886 INFO Evaluating ME (sample gsa, genome binning)\n",
            "2021-07-16 17:24:43,017 INFO Saving computed metrics\n",
            "2021-07-16 17:24:43,034 INFO Creating genome binning plots\n",
            "2021-07-16 17:24:52,429 INFO Creating HTML page\n",
            "2021-07-16 17:24:53,402 INFO AMBER finished successfully. All results have been saved to /content/Result\n"
          ],
          "name": "stdout"
        }
      ]
    }
  ]
}