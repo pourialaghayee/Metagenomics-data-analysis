{
  "nbformat": 4,
  "nbformat_minor": 0,
  "metadata": {
    "colab": {
      "name": "Section4.ipynb",
      "provenance": []
    },
    "kernelspec": {
      "name": "python3",
      "display_name": "Python 3"
    },
    "language_info": {
      "name": "python"
    }
  },
  "cells": [
    {
      "cell_type": "code",
      "metadata": {
        "id": "tqz8-WdSUeaV"
      },
      "source": [
        "!sudo apt install python3-pip\n",
        "!sudo add-apt-repository universe\n",
        "!sudo apt update\n",
        "!pip3 install cami-amber\n",
        "!echo 'PATH=$PATH:${HOME}/.local/bin' >> ~/.bashrc\n",
        "!source ~/.bashrc"
      ],
      "execution_count": null,
      "outputs": []
    },
    {
      "cell_type": "code",
      "metadata": {
        "colab": {
          "base_uri": "https://localhost:8080/"
        },
        "id": "NOHDZtXwUthJ",
        "outputId": "29d19915-3568-4593-a243-49a7ec60ee12"
      },
      "source": [
        "!amber.py -g GR.binning -o Result/ BB.binning "
      ],
      "execution_count": 2,
      "outputs": [
        {
          "output_type": "stream",
          "text": [
            "/usr/local/lib/python3.7/dist-packages/statsmodels/tools/_testing.py:19: FutureWarning: pandas.util.testing is deprecated. Use the functions in the public API at pandas.testing instead.\n",
            "  import pandas.util.testing as tm\n",
            "2021-07-16 17:19:40,018 INFO Loading Gold standard\n",
            "2021-07-16 17:19:40,054 INFO Loading BB\n",
            "2021-07-16 17:19:40,086 INFO Creating output directories\n",
            "2021-07-16 17:19:40,087 INFO Evaluating Gold standard (sample gsa, genome binning)\n",
            "2021-07-16 17:19:40,242 INFO Evaluating BB (sample gsa, genome binning)\n",
            "2021-07-16 17:19:40,377 INFO Saving computed metrics\n",
            "2021-07-16 17:19:40,392 INFO Creating genome binning plots\n",
            "2021-07-16 17:19:47,911 INFO Creating HTML page\n",
            "2021-07-16 17:19:48,892 INFO AMBER finished successfully. All results have been saved to /content/Result\n"
          ],
          "name": "stdout"
        }
      ]
    }
  ]
}